{
  "cells": [
    {
      "cell_type": "markdown",
      "metadata": {
        "id": "view-in-github",
        "colab_type": "text"
      },
      "source": [
        "<a href=\"https://colab.research.google.com/github/sergiorkd/Studying_PINNs/blob/main/PINN_underdamped_oscillator.ipynb\" target=\"_parent\"><img src=\"https://colab.research.google.com/assets/colab-badge.svg\" alt=\"Open In Colab\"/></a>"
      ]
    },
    {
      "cell_type": "code",
      "execution_count": 1,
      "id": "d7cdcd6a-e1a6-4e49-9ce7-b31cfde11a21",
      "metadata": {
        "id": "d7cdcd6a-e1a6-4e49-9ce7-b31cfde11a21"
      },
      "outputs": [],
      "source": [
        "import torch\n",
        "import torch.nn as nn\n",
        "import numpy as np\n",
        "import matplotlib.pyplot as plt"
      ]
    },
    {
      "cell_type": "markdown",
      "id": "d91a5062-35a4-4d2a-967e-28835d5b908b",
      "metadata": {
        "id": "d91a5062-35a4-4d2a-967e-28835d5b908b"
      },
      "source": [
        "## Exact Solution\n"
      ]
    },
    {
      "cell_type": "code",
      "source": [
        "from IPython.display import Image\n",
        "display(Image(filename='/content/problem boundaries.png', width=300))"
      ],
      "metadata": {
        "id": "_wUoGwHVwWmA"
      },
      "id": "_wUoGwHVwWmA",
      "execution_count": null,
      "outputs": []
    },
    {
      "cell_type": "markdown",
      "id": "eddd13d1-e7e6-4ae9-b3dc-2b3021147135",
      "metadata": {
        "id": "eddd13d1-e7e6-4ae9-b3dc-2b3021147135"
      },
      "source": [
        "initial conditions  \n",
        "m=1  \n",
        "x0=1  \n",
        "v0=0"
      ]
    },
    {
      "cell_type": "code",
      "execution_count": null,
      "id": "bc2bdc35-ac57-42cd-a379-c769eef88056",
      "metadata": {
        "id": "bc2bdc35-ac57-42cd-a379-c769eef88056"
      },
      "outputs": [],
      "source": [
        "def exact_solution(d, w0, t):\n",
        "    w = np.sqrt(w0**2-d**2)\n",
        "    phi = np.arctan(-d/w)\n",
        "    A = 1/(2*np.cos(phi))\n",
        "    #print('w', w)\n",
        "    #print('phi', phi)\n",
        "    #print('A', A)\n",
        "    cos = torch.cos(phi+w*t)\n",
        "    exp = torch.exp(-d*t)\n",
        "    #print('cos', cos)\n",
        "    #print('exp', exp)\n",
        "    x = exp*2*A*cos\n",
        "    return x"
      ]
    },
    {
      "cell_type": "code",
      "execution_count": null,
      "id": "26cc76ba-f861-48d8-886d-06a7f4417d40",
      "metadata": {
        "id": "26cc76ba-f861-48d8-886d-06a7f4417d40"
      },
      "outputs": [],
      "source": [
        "m=1\n",
        "d=2\n",
        "w0=20\n",
        "mu=2*d*m\n",
        "k=(w0*m)**2\n",
        "t_test = torch.linspace(0,3,300).view(-1,1)\n",
        "x_exact = exact_solution(d, w0, t_test)"
      ]
    },
    {
      "cell_type": "code",
      "execution_count": null,
      "id": "abe7901e-110f-4f86-86d3-481e3c47a599",
      "metadata": {
        "id": "abe7901e-110f-4f86-86d3-481e3c47a599"
      },
      "outputs": [],
      "source": [
        "plt.figure(figsize=(6,3))\n",
        "plt.plot(t_test[:,0], x_exact[:,0])\n",
        "plt.xlabel('time')\n",
        "plt.ylabel('x')"
      ]
    },
    {
      "cell_type": "markdown",
      "id": "c8c103c6-56e4-411b-b71c-880871fd5db8",
      "metadata": {
        "id": "c8c103c6-56e4-411b-b71c-880871fd5db8"
      },
      "source": [
        "## Building the network pinn"
      ]
    },
    {
      "cell_type": "code",
      "execution_count": null,
      "id": "2968671c-4f20-48c4-b7e7-b97b38876444",
      "metadata": {
        "id": "2968671c-4f20-48c4-b7e7-b97b38876444"
      },
      "outputs": [],
      "source": [
        "#defining the feed forward NN class\n",
        "class FFN(nn.Module):\n",
        "    #creating the initialization function of the class\n",
        "    def __init__(self, N_input, N_output, N_hidden):\n",
        "        super().__init__()\n",
        "        #activation function hyperbolic tangent\n",
        "        activation = nn.Tanh\n",
        "        self.ffni = nn.Sequential(nn.Linear(N_input, N_hidden), activation())\n",
        "        self.ffnh = nn.Sequential(nn.Linear(N_hidden, N_hidden), activation())\n",
        "        #no activation function for the output layer\n",
        "        self.ffne = nn.Sequential(nn.Linear(N_hidden, N_output))\n",
        "\n",
        "    def forward(self, x):\n",
        "        x = self.ffni(x)\n",
        "        #two hidden layers\n",
        "        x = self.ffnh(x)\n",
        "        x = self.ffnh(x)\n",
        "        x = self.ffne(x)\n",
        "        return x"
      ]
    },
    {
      "cell_type": "code",
      "execution_count": null,
      "id": "549def17-345f-49c2-9127-86d5569193a3",
      "metadata": {
        "id": "549def17-345f-49c2-9127-86d5569193a3"
      },
      "outputs": [],
      "source": [
        "torch.manual_seed(123)\n",
        "#settinf the NN with 1 input neuron, 32 hidden and 1 output\n",
        "pinn = FFN(1,1,32)"
      ]
    },
    {
      "cell_type": "code",
      "execution_count": null,
      "id": "2e591be3-b0f3-4049-819b-e711fd10a229",
      "metadata": {
        "id": "2e591be3-b0f3-4049-819b-e711fd10a229"
      },
      "outputs": [],
      "source": [
        "#setting the Adam optizer with an learning rate of 1e-3\n",
        "optimizer = torch.optim.Adam(pinn.parameters(), lr=1e-3)"
      ]
    },
    {
      "cell_type": "code",
      "execution_count": null,
      "id": "d5eba857-f4ee-4b8b-a822-afe5e63a80a2",
      "metadata": {
        "id": "d5eba857-f4ee-4b8b-a822-afe5e63a80a2"
      },
      "outputs": [],
      "source": [
        "#setting the domain features to use on the boudary conditions\n",
        "t_boundary = torch.tensor(0.0).view(-1,1).requires_grad_(True)\n",
        "t_physics = torch.linspace(0,3,300).view(-1,1).requires_grad_(True)"
      ]
    },
    {
      "cell_type": "code",
      "source": [
        "t_boundary"
      ],
      "metadata": {
        "id": "8JWlPRkpFVzN"
      },
      "id": "8JWlPRkpFVzN",
      "execution_count": null,
      "outputs": []
    },
    {
      "cell_type": "markdown",
      "id": "b1fa2dec-df82-4c19-9d43-b6308b6f5dac",
      "metadata": {
        "id": "b1fa2dec-df82-4c19-9d43-b6308b6f5dac"
      },
      "source": [
        "EDO of the problem used as boundry condition  \n"
      ]
    },
    {
      "cell_type": "code",
      "source": [
        "from IPython.display import Image\n",
        "display(Image(filename='/content/problem equation.png', width=300))"
      ],
      "metadata": {
        "id": "L3CvFvTUwu0P"
      },
      "id": "L3CvFvTUwu0P",
      "execution_count": null,
      "outputs": []
    },
    {
      "cell_type": "code",
      "execution_count": null,
      "id": "a48c74b6-843b-4525-aa77-4d7d5ca202b3",
      "metadata": {
        "collapsed": true,
        "id": "a48c74b6-843b-4525-aa77-4d7d5ca202b3"
      },
      "outputs": [],
      "source": [
        "#training process\n",
        "for i in range(60000):\n",
        "    optimizer.zero_grad()\n",
        "    #loss calculation\n",
        "    lambda1, lambda2 = 1e-1, 1e-3\n",
        "\n",
        "    #defining boundary constrains x(0)=1, v(0)0=0 and the EDO above\n",
        "    x = pinn(t_boundary)\n",
        "    #because x is equals 1 and the loss must converge to 0\n",
        "    loss1 = (torch.squeeze(x)-1)**2\n",
        "    #for the v(0)=0 the x equation needs to be diferentiate\n",
        "    dxdt = torch.autograd.grad(x, t_boundary, torch.ones_like(x), create_graph=True)[0]\n",
        "    #because V is equals 0 and the loss must converge to 0\n",
        "    loss2 = (torch.squeeze(dxdt)-0)**2\n",
        "\n",
        "    #calculanting physics loss\n",
        "    x = pinn(t_physics)\n",
        "    #first spacial derivate of the physics governing equation\n",
        "    dxdt = torch.autograd.grad(x, t_physics, torch.ones_like(x), create_graph=True)[0]\n",
        "    #second spacial derivate of the physics governing equation\n",
        "    d2xdt2 = torch.autograd.grad(dxdt, t_physics, torch.ones_like(dxdt), create_graph=True)[0]\n",
        "    loss3 = torch.mean((m*d2xdt2+mu*dxdt+k*x)**2)\n",
        "\n",
        "    loss = loss1 + lambda1*loss2 + lambda2*loss3\n",
        "    loss.backward()\n",
        "    optimizer.step()\n",
        "\n",
        "    #plotting the result as the training process goes\n",
        "    if i%20000 == 0:\n",
        "        print(loss1, loss2, loss3)\n",
        "        x = pinn(t_test)\n",
        "        x = x.detach()\n",
        "        plt.figure(figsize=(6,3))\n",
        "        plt.plot(t_test[:,0], x_exact[:,0], label = 'Exact sol.', color = 'tab:red')\n",
        "        plt.plot(t_test[:,0], x[:,0], label = 'PINNs sol.', color = 'tab:blue')\n",
        "        plt.legend()\n",
        "        plt.show()"
      ]
    },
    {
      "cell_type": "code",
      "execution_count": null,
      "id": "409783db-c26a-4342-82bc-0a0aa3f519ec",
      "metadata": {
        "id": "409783db-c26a-4342-82bc-0a0aa3f519ec"
      },
      "outputs": [],
      "source": [
        "x = pinn(t_test)\n",
        "x = x.detach()\n",
        "plt.figure(figsize=(6,3))\n",
        "plt.plot(t_test[:,0], x_exact[:,0], label = 'Exact sol.', color = 'tab:red')\n",
        "plt.plot(t_test[:,0], x[:,0], label = 'PINNs sol.', color = 'tab:blue')\n",
        "plt.legend()\n",
        "plt.show()"
      ]
    },
    {
      "cell_type": "markdown",
      "source": [
        "## Solving the same problem with inverse PINN"
      ],
      "metadata": {
        "id": "wV8RmOwDdQc0"
      },
      "id": "wV8RmOwDdQc0"
    },
    {
      "cell_type": "code",
      "execution_count": null,
      "id": "d574288e-cecd-43c4-8c54-521131af46ab",
      "metadata": {
        "id": "d574288e-cecd-43c4-8c54-521131af46ab"
      },
      "outputs": [],
      "source": [
        "torch.manual_seed(123)\n",
        "print('mu correct value', mu)\n",
        "t_obs = torch.rand(40).view(-1,1)\n",
        "x_obs = exact_solution(d, w0, t_obs)\n",
        "plt.figure(figsize=(6,3))\n",
        "plt.plot(t_test[:,0], x_exact[:,0])\n",
        "plt.scatter(t_obs[:,0], x_obs[:,0], color='red')\n",
        "plt.xlabel('time')\n",
        "plt.ylabel('x')"
      ]
    },
    {
      "cell_type": "markdown",
      "source": [
        "For this exemple, the same NN and PINN achitecture defined before will be used. Also the physics domain will be the same but for this case we dont need the boundary conditions because we have real data of the problem. So t_boundary wont be necessary."
      ],
      "metadata": {
        "id": "_i5sDBlqhSHu"
      },
      "id": "_i5sDBlqhSHu"
    },
    {
      "cell_type": "code",
      "source": [
        "#defining the feed forward NN class\n",
        "class FFN(nn.Module):\n",
        "    #creating the initialization function of the class\n",
        "    def __init__(self, N_input, N_output, N_hidden):\n",
        "        super().__init__()\n",
        "        #activation function hyperbolic tangent\n",
        "        activation = nn.Tanh\n",
        "        self.ffni = nn.Sequential(nn.Linear(N_input, N_hidden), activation())\n",
        "        self.ffnh = nn.Sequential(nn.Linear(N_hidden, N_hidden), activation())\n",
        "        #no activation function for the output layer\n",
        "        self.ffne = nn.Sequential(nn.Linear(N_hidden, N_output))\n",
        "\n",
        "    def forward(self, x):\n",
        "        x = self.ffni(x)\n",
        "        #two hidden layers\n",
        "        x = self.ffnh(x)\n",
        "        x = self.ffnh(x)\n",
        "        x = self.ffne(x)\n",
        "        return x"
      ],
      "metadata": {
        "id": "nRmaO-geLovz"
      },
      "id": "nRmaO-geLovz",
      "execution_count": null,
      "outputs": []
    },
    {
      "cell_type": "code",
      "source": [
        "torch.manual_seed(123)\n",
        "#settinf the NN with 1 input neuron, 32 hidden and 1 output\n",
        "pinn = FFN(1,1,32)"
      ],
      "metadata": {
        "id": "rxU24pU3LoNw"
      },
      "id": "rxU24pU3LoNw",
      "execution_count": null,
      "outputs": []
    },
    {
      "cell_type": "code",
      "source": [
        "#before mu wat set following the physics equation of the exact solution.\n",
        "#mu=2*d*m, but now it will be different\n",
        "mu = torch.nn.Parameter(torch.zeros(1, requires_grad=True))\n",
        "mus = []\n",
        "t_physics = torch.linspace(0,3,300).view(-1,1).requires_grad_(True)"
      ],
      "metadata": {
        "id": "_VUTpEZU_G9Z"
      },
      "id": "_VUTpEZU_G9Z",
      "execution_count": null,
      "outputs": []
    },
    {
      "cell_type": "code",
      "source": [
        "#the opmizer will be ADAM here too but optimizing both the PINN\n",
        "#parameters and mu value.\n",
        "#here the parameters need to be passed as a list to be combined with\n",
        "#all the mu values passed.\n",
        "optimizer = torch.optim.Adam(list(pinn.parameters())+[mu], lr=1e-3)"
      ],
      "metadata": {
        "id": "ZrA8Zu6shLNr"
      },
      "id": "ZrA8Zu6shLNr",
      "execution_count": null,
      "outputs": []
    },
    {
      "cell_type": "code",
      "source": [
        "for i in range(60001):\n",
        "    optimizer.zero_grad()\n",
        "    #loss calculation\n",
        "    lambda1 = 1e4\n",
        "\n",
        "    #since this case dont uses boundary constrains\n",
        "    #it will jump to the calculanting of physics loss\n",
        "    x = pinn(t_physics)\n",
        "    #first spacial derivate of the physics governing equation\n",
        "    dxdt = torch.autograd.grad(x, t_physics,\n",
        "                               torch.ones_like(x),\n",
        "                               create_graph=True)[0]\n",
        "    #second spacial derivate of the physics governing equation\n",
        "    d2xdt2 = torch.autograd.grad(dxdt, t_physics,\n",
        "                                 torch.ones_like(dxdt),\n",
        "                                 create_graph=True)[0]\n",
        "    loss1 = torch.mean((m*d2xdt2+mu*dxdt+k*x)**2)\n",
        "\n",
        "    #using the real data as a constrain and setting the loss function to\n",
        "    #compare the real value with the predicted value\n",
        "    x=pinn(t_obs)\n",
        "    loss2 = torch.mean((x-x_obs)**2)\n",
        "\n",
        "    loss = loss1 + lambda1*loss2\n",
        "    loss.backward()\n",
        "    optimizer.step()\n",
        "\n",
        "    mus.append(mu.item())\n",
        "\n",
        "    #plotting the result as the training process goes\n",
        "    if i%20000 == 0:\n",
        "        print(loss1, loss2)\n",
        "        x = pinn(t_test)\n",
        "        x = x.detach()\n",
        "        plt.figure(figsize=(6,3))\n",
        "        plt.scatter(t_obs[:,0], x_obs[:,0],\n",
        "                    label = 'Observations', color = 'tab:red', alpha=0.6)\n",
        "        plt.plot(t_test[:,0], x[:,0],\n",
        "                 label = 'Inverse PINNs sol.', color = 'tab:blue')\n",
        "        plt.legend()\n",
        "        plt.show()"
      ],
      "metadata": {
        "id": "J73TuonKhMby"
      },
      "id": "J73TuonKhMby",
      "execution_count": null,
      "outputs": []
    },
    {
      "cell_type": "code",
      "source": [
        "#final mu value should be 4\n",
        "print(mu.item())"
      ],
      "metadata": {
        "id": "liM_ixThV0v6"
      },
      "id": "liM_ixThV0v6",
      "execution_count": null,
      "outputs": []
    },
    {
      "cell_type": "code",
      "source": [
        "plt.figure()\n",
        "plt.title('Learning process of mu value')\n",
        "plt.plot(mus, label = 'Estimated value')\n",
        "plt.hlines(2*d, 0, len(mus), label = 'True mu value', color='green')\n",
        "plt.legend()\n",
        "plt.xlabel('Training steps')\n",
        "plt.ylabel('mu value')\n",
        "plt.show"
      ],
      "metadata": {
        "id": "A9MmXQ5_agRS"
      },
      "id": "A9MmXQ5_agRS",
      "execution_count": null,
      "outputs": []
    },
    {
      "cell_type": "markdown",
      "source": [
        "## Creating a Deep Operator to solve a ODE"
      ],
      "metadata": {
        "id": "7c40Eg8P30lZ"
      },
      "id": "7c40Eg8P30lZ"
    },
    {
      "cell_type": "code",
      "source": [
        "pip install gstools"
      ],
      "metadata": {
        "collapsed": true,
        "colab": {
          "base_uri": "https://localhost:8080/"
        },
        "id": "AQ8L6X43FGPe",
        "outputId": "0b240a03-50bb-4bc5-a09b-a24c8e202893"
      },
      "id": "AQ8L6X43FGPe",
      "execution_count": 2,
      "outputs": [
        {
          "output_type": "stream",
          "name": "stdout",
          "text": [
            "Collecting gstools\n",
            "  Downloading gstools-1.6.1-cp311-cp311-manylinux_2_17_x86_64.manylinux2014_x86_64.whl.metadata (22 kB)\n",
            "Collecting emcee>=3.0.0 (from gstools)\n",
            "  Downloading emcee-3.1.6-py2.py3-none-any.whl.metadata (3.0 kB)\n",
            "Collecting hankel>=1.0.0 (from gstools)\n",
            "  Downloading hankel-1.2.2-py3-none-any.whl.metadata (5.4 kB)\n",
            "Collecting meshio>=5.1.0 (from gstools)\n",
            "  Downloading meshio-5.3.5-py3-none-any.whl.metadata (11 kB)\n",
            "Requirement already satisfied: numpy>=1.20.0 in /usr/local/lib/python3.11/dist-packages (from gstools) (2.0.2)\n",
            "Collecting pyevtk>=1.1.1 (from gstools)\n",
            "  Downloading pyevtk-1.6.0-py3-none-any.whl.metadata (5.4 kB)\n",
            "Requirement already satisfied: scipy>=1.1.0 in /usr/local/lib/python3.11/dist-packages (from gstools) (1.14.1)\n",
            "Requirement already satisfied: mpmath>=1.0.0 in /usr/local/lib/python3.11/dist-packages (from hankel>=1.0.0->gstools) (1.3.0)\n",
            "Requirement already satisfied: rich in /usr/local/lib/python3.11/dist-packages (from meshio>=5.1.0->gstools) (13.9.4)\n",
            "Requirement already satisfied: markdown-it-py>=2.2.0 in /usr/local/lib/python3.11/dist-packages (from rich->meshio>=5.1.0->gstools) (3.0.0)\n",
            "Requirement already satisfied: pygments<3.0.0,>=2.13.0 in /usr/local/lib/python3.11/dist-packages (from rich->meshio>=5.1.0->gstools) (2.18.0)\n",
            "Requirement already satisfied: mdurl~=0.1 in /usr/local/lib/python3.11/dist-packages (from markdown-it-py>=2.2.0->rich->meshio>=5.1.0->gstools) (0.1.2)\n",
            "Downloading gstools-1.6.1-cp311-cp311-manylinux_2_17_x86_64.manylinux2014_x86_64.whl (1.7 MB)\n",
            "\u001b[2K   \u001b[90m━━━━━━━━━━━━━━━━━━━━━━━━━━━━━━━━━━━━━━━━\u001b[0m \u001b[32m1.7/1.7 MB\u001b[0m \u001b[31m20.2 MB/s\u001b[0m eta \u001b[36m0:00:00\u001b[0m\n",
            "\u001b[?25hDownloading emcee-3.1.6-py2.py3-none-any.whl (47 kB)\n",
            "\u001b[2K   \u001b[90m━━━━━━━━━━━━━━━━━━━━━━━━━━━━━━━━━━━━━━━━\u001b[0m \u001b[32m47.4/47.4 kB\u001b[0m \u001b[31m2.7 MB/s\u001b[0m eta \u001b[36m0:00:00\u001b[0m\n",
            "\u001b[?25hDownloading hankel-1.2.2-py3-none-any.whl (12 kB)\n",
            "Downloading meshio-5.3.5-py3-none-any.whl (166 kB)\n",
            "\u001b[2K   \u001b[90m━━━━━━━━━━━━━━━━━━━━━━━━━━━━━━━━━━━━━━━━\u001b[0m \u001b[32m166.2/166.2 kB\u001b[0m \u001b[31m11.0 MB/s\u001b[0m eta \u001b[36m0:00:00\u001b[0m\n",
            "\u001b[?25hDownloading pyevtk-1.6.0-py3-none-any.whl (20 kB)\n",
            "Installing collected packages: pyevtk, emcee, hankel, meshio, gstools\n",
            "Successfully installed emcee-3.1.6 gstools-1.6.1 hankel-1.2.2 meshio-5.3.5 pyevtk-1.6.0\n"
          ]
        }
      ]
    },
    {
      "cell_type": "code",
      "source": [
        "from gstools import SRF, Gaussian\n",
        "from gstools.random import MasterRNG\n",
        "from scipy import integrate"
      ],
      "metadata": {
        "id": "Y-GzlUaZyf2O"
      },
      "id": "Y-GzlUaZyf2O",
      "execution_count": 3,
      "outputs": []
    },
    {
      "cell_type": "code",
      "source": [
        "#setting the number of data points to 110 and number of point in the function to 100\n",
        "m = 100\n",
        "n = 110\n",
        "x = np.linspace(0,1,m)"
      ],
      "metadata": {
        "id": "QbDOV1aSjVxc"
      },
      "id": "QbDOV1aSjVxc",
      "execution_count": 4,
      "outputs": []
    },
    {
      "cell_type": "code",
      "source": [
        "seed = MasterRNG(45)\n",
        "\n",
        "def one_function(x):\n",
        "  model = Gaussian(dim=1, var=3, len_scale=0.3)\n",
        "  srf = SRF(model, seed=seed()) #maybe there is an error here\n",
        "  f = srf.structured([x])\n",
        "  return f"
      ],
      "metadata": {
        "id": "8NAz-oO-kQu3"
      },
      "id": "8NAz-oO-kQu3",
      "execution_count": 5,
      "outputs": []
    },
    {
      "cell_type": "code",
      "source": [
        "U = np.zeros((m,n))\n",
        "for i in range(m):\n",
        "  U[:,i] = one_function(x)"
      ],
      "metadata": {
        "id": "gLKfSxQHmChU"
      },
      "id": "gLKfSxQHmChU",
      "execution_count": 6,
      "outputs": []
    },
    {
      "cell_type": "code",
      "source": [
        "#plotting 3 of the random generated curves\n",
        "plt.plot(x, U[:, :3])"
      ],
      "metadata": {
        "colab": {
          "base_uri": "https://localhost:8080/",
          "height": 484
        },
        "id": "jBzD5oMCmd7_",
        "outputId": "6cf74147-ca5c-4d6f-92cb-197d59dc6913"
      },
      "id": "jBzD5oMCmd7_",
      "execution_count": 7,
      "outputs": [
        {
          "output_type": "execute_result",
          "data": {
            "text/plain": [
              "[<matplotlib.lines.Line2D at 0x78a62bafbf90>,\n",
              " <matplotlib.lines.Line2D at 0x78a62bad0390>,\n",
              " <matplotlib.lines.Line2D at 0x78a62bb00590>]"
            ]
          },
          "metadata": {},
          "execution_count": 7
        },
        {
          "output_type": "display_data",
          "data": {
            "text/plain": [
              "<Figure size 640x480 with 1 Axes>"
            ],
            "image/png": "[encoded data removed]"
          },
          "metadata": {}
        }
      ]
    },
    {
      "cell_type": "code",
      "source": [
        "def integrate_one_function(f):\n",
        "  result = np.zeros_like(f)\n",
        "  result[0]=0\n",
        "  for i in range(1, len(f)):\n",
        "    result[i] = integrate.simpson(y=f[:i+1], x=x[:i+1])\n",
        "  return result"
      ],
      "metadata": {
        "id": "WAt7zCaInFra"
      },
      "id": "WAt7zCaInFra",
      "execution_count": 8,
      "outputs": []
    },
    {
      "cell_type": "code",
      "source": [
        "#plotting the integration result of the first curve\n",
        "f = U[:, 0]\n",
        "f_int = integrate_one_function(f)\n",
        "plt.plot(x, f)\n",
        "plt.plot(x, f_int)"
      ],
      "metadata": {
        "colab": {
          "base_uri": "https://localhost:8080/",
          "height": 448
        },
        "id": "DHvtg2CsoljP",
        "outputId": "62dd12ef-eecb-49f9-8cff-dd225e3561f4"
      },
      "id": "DHvtg2CsoljP",
      "execution_count": 9,
      "outputs": [
        {
          "output_type": "execute_result",
          "data": {
            "text/plain": [
              "[<matplotlib.lines.Line2D at 0x78a62bb03550>]"
            ]
          },
          "metadata": {},
          "execution_count": 9
        },
        {
          "output_type": "display_data",
          "data": {
            "text/plain": [
              "<Figure size 640x480 with 1 Axes>"
            ],
            "image/png": "[encoded data removed]"
          },
          "metadata": {}
        }
      ]
    },
    {
      "cell_type": "code",
      "source": [
        "#integrating all curves and storing at S\n",
        "S = np.zeros((m,n))\n",
        "for i in range(n):\n",
        "  S[:,i] = integrate_one_function(U[:,i])"
      ],
      "metadata": {
        "id": "CbTyOQqso7jd"
      },
      "id": "CbTyOQqso7jd",
      "execution_count": 12,
      "outputs": []
    },
    {
      "cell_type": "code",
      "source": [
        "#shaping the array form\n",
        "# US -> m*n = 11000 ==> US(11000, 100) eleven thousand data points\n",
        "# with one hundred columns (input to train)\n",
        "# XS -> (11000, 1) input we need to answer\n",
        "# SS -> (11000, 1) output\n",
        "\n",
        "def interate_data(m=m, n=n, x=x, U=U, S=S):\n",
        "  US=np.zeros((m*n, m))\n",
        "  XS=np.zeros((m*n, 1))\n",
        "  SS=np.zeros((m*n, 1))\n",
        "  for i in range(n):\n",
        "    for j in range(m):\n",
        "      US[i*m+j, :] = U[:,i]\n",
        "      XS[i*m+j, :] = x[j]\n",
        "      SS[i*m+j, :] = S[j,i]\n",
        "  return US, XS, SS"
      ],
      "metadata": {
        "id": "lTKluRLgrKsv"
      },
      "id": "lTKluRLgrKsv",
      "execution_count": 15,
      "outputs": []
    },
    {
      "cell_type": "code",
      "source": [
        "US, XS, SS = interate_data()\n",
        "print(US.shape, XS.shape, SS.shape)"
      ],
      "metadata": {
        "colab": {
          "base_uri": "https://localhost:8080/"
        },
        "id": "sptze0g8NeNa",
        "outputId": "1b45a043-e9a0-4de7-8c0f-84520360a9fd"
      },
      "id": "sptze0g8NeNa",
      "execution_count": 16,
      "outputs": [
        {
          "output_type": "stream",
          "name": "stdout",
          "text": [
            "(11000, 100) (11000, 1) (11000, 1)\n"
          ]
        }
      ]
    },
    {
      "cell_type": "code",
      "source": [
        "def batch_dataset(batch_size, n=n, m=m, x=x, U=U, S=S, ratio=0.9):\n",
        "  US, XS, SS = interate_data(m, n, x, U, S)\n",
        "  #10% of datapoint to the train dataset\n",
        "  train_size = int(len(US)*ratio)\n",
        "  us_train = US[:train_size]\n",
        "  xs_train = XS[:train_size]\n",
        "  ss_train = SS[:train_size]\n",
        "\n",
        "  us_test = US[train_size:]\n",
        "  xs_test = XS[train_size:]\n",
        "  ss_test = SS[train_size:]\n",
        "\n",
        "  #converting the train arrays to tesors\n",
        "  us_train = torch.tensor(us_train, dtype=torch.float32)\n",
        "  xs_train = torch.tensor(xs_train, dtype=torch.float32)\n",
        "  ss_train = torch.tensor(ss_train, dtype=torch.float32)\n",
        "  #creating a TensorDataset for the train set\n",
        "  train_dataset = torch.utils.data.TensorDataset(us_train, xs_train, ss_train)\n",
        "  #loading train data on train_dataset and shuffling them\n",
        "  train_dataloader = torch.utils.data.DataLoader(train_dataset,\n",
        "                                                 batch_size=batch_size,\n",
        "                                                 shuffle=True)\n",
        "\n",
        "  #converting the test arrays to tesors\n",
        "  us_test = torch.tensor(us_test, dtype=torch.float32)\n",
        "  xs_test = torch.tensor(xs_test, dtype=torch.float32)\n",
        "  ss_test = torch.tensor(ss_test, dtype=torch.float32)\n",
        "  # creating a TensorDataset for the test set\n",
        "  test_dataset = torch.utils.data.TensorDataset(us_test, xs_test, ss_test)\n",
        "  #loading train data on test_dataset and shuffling them\n",
        "  test_dataloader = torch.utils.data.DataLoader(test_dataset,\n",
        "                                                 batch_size=batch_size,\n",
        "                                                 shuffle=True)\n",
        "\n",
        "  return train_dataloader, test_dataloader"
      ],
      "metadata": {
        "id": "GwBESItpN4fo"
      },
      "id": "GwBESItpN4fo",
      "execution_count": 17,
      "outputs": []
    },
    {
      "cell_type": "code",
      "source": [
        "#creating train and test data\n",
        "train_data, test_data = batch_dataset(batch_size=32, ratio=0.9)"
      ],
      "metadata": {
        "id": "R3CQKNC2-et-"
      },
      "id": "R3CQKNC2-et-",
      "execution_count": 18,
      "outputs": []
    },
    {
      "cell_type": "code",
      "source": [
        "class DeepONet(nn.Module):\n",
        "  def __init__(self, neurons = 40, in1=1, in2=1, output_neurons=20):\n",
        "    super(DeepONet, self).__init__()\n",
        "    self.in1 = in1\n",
        "    self.in2 = in2\n",
        "    self.output_neurons = output_neurons\n",
        "    self.neurons = neurons\n",
        "\n",
        "    self.branch = self.branch_network()\n",
        "    self.trunk = self.trunk_network()\n",
        "\n",
        "  #the branch network will recive all the data points\n",
        "  def branch_network(self):\n",
        "    branch = nn.Sequential(\n",
        "        nn.Linear(self.in1, self.neurons),\n",
        "        nn.ReLU(),\n",
        "        #hidden layer\n",
        "        nn.Linear(self.neurons, self.neurons),\n",
        "        nn.ReLU(),\n",
        "        nn.Linear(self.neurons, self.output_neurons)\n",
        "        )\n",
        "    return branch\n",
        "\n",
        "\n",
        "  #the trunk network will recive the integration's location\n",
        "  def trunk_network(self):\n",
        "    trunk = nn.Sequential(\n",
        "        nn.Linear(self.in2, self.neurons),\n",
        "        nn.ReLU(),\n",
        "        #hidden layer\n",
        "        nn.Linear(self.neurons, self.neurons),\n",
        "        nn.ReLU(),\n",
        "        #hidden layer\n",
        "        nn.Linear(self.neurons, self.neurons),\n",
        "        nn.ReLU(),\n",
        "        nn.Linear(self.neurons, self.output_neurons)\n",
        "        )\n",
        "    return trunk\n",
        "\n",
        "  def forward(self, x1, x2):\n",
        "    x1 = self.branch(x1)\n",
        "    x2 = self.trunk(x2)\n",
        "    x = torch.einsum('bi, bi->b', x1, x2)\n",
        "    x = torch.unsqueeze(x, 1)\n",
        "    return x"
      ],
      "metadata": {
        "id": "lIi5x9BYALRa"
      },
      "id": "lIi5x9BYALRa",
      "execution_count": 19,
      "outputs": []
    },
    {
      "cell_type": "code",
      "source": [
        "model = DeepONet(neurons=40, in1=m, in2=1)\n",
        "model"
      ],
      "metadata": {
        "colab": {
          "base_uri": "https://localhost:8080/"
        },
        "id": "MlQBzMbxulFq",
        "outputId": "65b0cf9c-8b3e-4bdd-aa84-5cf84e4e19ad"
      },
      "id": "MlQBzMbxulFq",
      "execution_count": 20,
      "outputs": [
        {
          "output_type": "execute_result",
          "data": {
            "text/plain": [
              "DeepONet(\n",
              "  (branch): Sequential(\n",
              "    (0): Linear(in_features=100, out_features=40, bias=True)\n",
              "    (1): ReLU()\n",
              "    (2): Linear(in_features=40, out_features=40, bias=True)\n",
              "    (3): ReLU()\n",
              "    (4): Linear(in_features=40, out_features=20, bias=True)\n",
              "  )\n",
              "  (trunk): Sequential(\n",
              "    (0): Linear(in_features=1, out_features=40, bias=True)\n",
              "    (1): ReLU()\n",
              "    (2): Linear(in_features=40, out_features=40, bias=True)\n",
              "    (3): ReLU()\n",
              "    (4): Linear(in_features=40, out_features=40, bias=True)\n",
              "    (5): ReLU()\n",
              "    (6): Linear(in_features=40, out_features=20, bias=True)\n",
              "  )\n",
              ")"
            ]
          },
          "metadata": {},
          "execution_count": 20
        }
      ]
    },
    {
      "cell_type": "code",
      "source": [
        "def loss(y_pred, y):\n",
        "  return torch.mean((y_pred-y)**2)"
      ],
      "metadata": {
        "id": "ylQU2vvn1bA9"
      },
      "id": "ylQU2vvn1bA9",
      "execution_count": 21,
      "outputs": []
    },
    {
      "cell_type": "code",
      "source": [
        "optimizer = torch.optim.Adam(model.parameters(), lr=1e-3)"
      ],
      "metadata": {
        "id": "ynqqf-XJ4o3k"
      },
      "id": "ynqqf-XJ4o3k",
      "execution_count": 22,
      "outputs": []
    },
    {
      "cell_type": "code",
      "source": [
        "train_losses = []\n",
        "\n",
        "epochs=800\n",
        "for i in range(epochs):\n",
        "  l_total = 0\n",
        "  for u_batch, x_batch, s_batch in train_data:\n",
        "    model.train()\n",
        "    optimizer.zero_grad()\n",
        "    y_pred = model(u_batch, x_batch)\n",
        "\n",
        "    l = loss(y_pred, s_batch)\n",
        "    l_total += l.item()\n",
        "    l.backward()\n",
        "    optimizer.step()\n",
        "\n",
        "  l_total = l_total/len(train_data)\n",
        "  train_losses.append(l_total)\n",
        "\n",
        "  if i%100 == 0:\n",
        "    print(f'Epoch: {i}/{epochs} - Loss: {l_total}')"
      ],
      "metadata": {
        "colab": {
          "base_uri": "https://localhost:8080/"
        },
        "id": "JEzB5tCA45Uq",
        "outputId": "0629a207-af92-4a07-a076-ccc462c9f5a9"
      },
      "id": "JEzB5tCA45Uq",
      "execution_count": 23,
      "outputs": [
        {
          "output_type": "stream",
          "name": "stdout",
          "text": [
            "Epoch: 0/800 - Loss: 0.04249502694564721\n",
            "Epoch: 100/800 - Loss: 0.0002109325096934035\n",
            "Epoch: 200/800 - Loss: 0.00021870892032306837\n",
            "Epoch: 300/800 - Loss: 8.392868800705577e-05\n",
            "Epoch: 400/800 - Loss: 7.964599830771594e-05\n",
            "Epoch: 500/800 - Loss: 0.00011426818363683959\n",
            "Epoch: 600/800 - Loss: 6.854088076491485e-05\n",
            "Epoch: 700/800 - Loss: 0.000138379409221553\n"
          ]
        }
      ]
    },
    {
      "cell_type": "code",
      "source": [
        "plt.plot(train_losses)"
      ],
      "metadata": {
        "colab": {
          "base_uri": "https://localhost:8080/",
          "height": 448
        },
        "id": "3eIu8Aey_Oiw",
        "outputId": "218967b5-a0a1-4d41-d651-ed9dd976937d"
      },
      "id": "3eIu8Aey_Oiw",
      "execution_count": 21,
      "outputs": [
        {
          "output_type": "execute_result",
          "data": {
            "text/plain": [
              "[<matplotlib.lines.Line2D at 0x7a9507fdabd0>]"
            ]
          },
          "metadata": {},
          "execution_count": 21
        },
        {
          "output_type": "display_data",
          "data": {
            "text/plain": [
              "<Figure size 640x480 with 1 Axes>"
            ],
            "image/png": "[encoded data removed]"
          },
          "metadata": {}
        }
      ]
    },
    {
      "cell_type": "code",
      "source": [
        "my_func = lambda x: np.cos(5*x)\n",
        "inter = lambda x: 1/5*np.sin(5*x)\n",
        "u_t = my_func(x)\n",
        "s_t = inter(x)"
      ],
      "metadata": {
        "id": "MOZbVspUJGpd"
      },
      "id": "MOZbVspUJGpd",
      "execution_count": 24,
      "outputs": []
    },
    {
      "cell_type": "code",
      "source": [
        "model.eval()"
      ],
      "metadata": {
        "colab": {
          "base_uri": "https://localhost:8080/"
        },
        "id": "zejQPCvKLNoT",
        "outputId": "ded7d077-23bb-4927-b9a7-f28cd3402c88"
      },
      "id": "zejQPCvKLNoT",
      "execution_count": 25,
      "outputs": [
        {
          "output_type": "execute_result",
          "data": {
            "text/plain": [
              "DeepONet(\n",
              "  (branch): Sequential(\n",
              "    (0): Linear(in_features=100, out_features=40, bias=True)\n",
              "    (1): ReLU()\n",
              "    (2): Linear(in_features=40, out_features=40, bias=True)\n",
              "    (3): ReLU()\n",
              "    (4): Linear(in_features=40, out_features=20, bias=True)\n",
              "  )\n",
              "  (trunk): Sequential(\n",
              "    (0): Linear(in_features=1, out_features=40, bias=True)\n",
              "    (1): ReLU()\n",
              "    (2): Linear(in_features=40, out_features=40, bias=True)\n",
              "    (3): ReLU()\n",
              "    (4): Linear(in_features=40, out_features=40, bias=True)\n",
              "    (5): ReLU()\n",
              "    (6): Linear(in_features=40, out_features=20, bias=True)\n",
              "  )\n",
              ")"
            ]
          },
          "metadata": {},
          "execution_count": 25
        }
      ]
    },
    {
      "cell_type": "code",
      "source": [
        "u_t_tens = torch.tensor(u_t, dtype=torch.float32)\n",
        "u_t_tens = torch.tensor(u_t, dtype=torch.float32).unsqueeze(0)\n",
        "x_tens = torch.tensor(x, dtype=torch.float32).unsqueeze(1)\n",
        "\n",
        "p = model(u_t_tens, x_tens)\n",
        "p = p.detach().numpy()"
      ],
      "metadata": {
        "id": "M6vkV9giLazR"
      },
      "id": "M6vkV9giLazR",
      "execution_count": 26,
      "outputs": []
    },
    {
      "cell_type": "code",
      "source": [
        "plt.plot(x, u_t, label='Func')\n",
        "plt.plot(x, s_t, label='Exact solution', linestyle='--', linewidth=2)\n",
        "plt.plot(x, p, label='DNN model solution', linestyle=':', linewidth=2)\n",
        "plt.legend()"
      ],
      "metadata": {
        "colab": {
          "base_uri": "https://localhost:8080/",
          "height": 448
        },
        "id": "bksoRHCwXYPI",
        "outputId": "5e65d828-4fa9-4fda-b0e7-1184b8da9cbd"
      },
      "id": "bksoRHCwXYPI",
      "execution_count": 39,
      "outputs": [
        {
          "output_type": "execute_result",
          "data": {
            "text/plain": [
              "<matplotlib.legend.Legend at 0x78a61da64790>"
            ]
          },
          "metadata": {},
          "execution_count": 39
        },
        {
          "output_type": "display_data",
          "data": {
            "text/plain": [
              "<Figure size 640x480 with 1 Axes>"
            ],
            "image/png": "[encoded data removed]"
          },
          "metadata": {}
        }
      ]
    },
    {
      "cell_type": "code",
      "source": [],
      "metadata": {
        "id": "30_Ftwu3UkyK"
      },
      "id": "30_Ftwu3UkyK",
      "execution_count": null,
      "outputs": []
    }
  ],
  "metadata": {
    "kernelspec": {
      "display_name": "Python [conda env:base] *",
      "language": "python",
      "name": "conda-base-py"
    },
    "language_info": {
      "codemirror_mode": {
        "name": "ipython",
        "version": 3
      },
      "file_extension": ".py",
      "mimetype": "text/x-python",
      "name": "python",
      "nbconvert_exporter": "python",
      "pygments_lexer": "ipython3",
      "version": "3.12.7"
    },
    "colab": {
      "provenance": [],
      "collapsed_sections": [
        "d91a5062-35a4-4d2a-967e-28835d5b908b",
        "c8c103c6-56e4-411b-b71c-880871fd5db8",
        "wV8RmOwDdQc0",
        "7c40Eg8P30lZ"
      ],
      "include_colab_link": true
    }
  },
  "nbformat": 4,
  "nbformat_minor": 5
}